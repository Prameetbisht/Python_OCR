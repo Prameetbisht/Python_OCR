{
 "cells": [
  {
   "cell_type": "code",
   "execution_count": 2,
   "metadata": {},
   "outputs": [],
   "source": [
    "import os\n",
    "\n",
    "import requests\n",
    "import pdfplumber"
   ]
  },
  {
   "cell_type": "code",
   "execution_count": 3,
   "metadata": {},
   "outputs": [],
   "source": [
    "invoice_pdf = r'C:\\Users\\pbisht\\VScode project OCR\\Assignment 3\\31. 1260993H Kaiser Fontana Medical Center PPE 1-29-21 Hotel.pdf'\n"
   ]
  },
  {
   "cell_type": "code",
   "execution_count": 21,
   "metadata": {},
   "outputs": [
    {
     "name": "stdout",
     "output_type": "stream",
     "text": [
      "None\n"
     ]
    }
   ],
   "source": [
    "with pdfplumber.open(invoice_pdf) as pdf:\n",
    "    page = pdf.pages[2]\n",
    "    text = page.extract_text()\n",
    "    print(text)"
   ]
  },
  {
   "cell_type": "code",
   "execution_count": 22,
   "metadata": {},
   "outputs": [
    {
     "data": {
      "text/plain": [
       "1"
      ]
     },
     "execution_count": 22,
     "metadata": {},
     "output_type": "execute_result"
    }
   ],
   "source": [
    "os.system(f'ocrmypdf {invoice_pdf} output.pdf')\n"
   ]
  },
  {
   "cell_type": "code",
   "execution_count": 30,
   "metadata": {},
   "outputs": [
    {
     "name": "stdout",
     "output_type": "stream",
     "text": [
      "None\n"
     ]
    }
   ],
   "source": [
    "with pdfplumber.open(invoice_pdf) as pdf:\n",
    "    page = pdf.pages[2]\n",
    "    text = page.extract_text(x_tolerance=2)\n",
    "    print(text)"
   ]
  },
  {
   "cell_type": "code",
   "execution_count": 31,
   "metadata": {},
   "outputs": [],
   "source": [
    "import re"
   ]
  },
  {
   "cell_type": "code",
   "execution_count": 32,
   "metadata": {},
   "outputs": [],
   "source": [
    "amt_re = re.compile(r'\\.\\d\\d$')"
   ]
  },
  {
   "cell_type": "code",
   "execution_count": 33,
   "metadata": {},
   "outputs": [
    {
     "ename": "AttributeError",
     "evalue": "'NoneType' object has no attribute 'split'",
     "output_type": "error",
     "traceback": [
      "\u001b[1;31m---------------------------------------------------------------------------\u001b[0m",
      "\u001b[1;31mAttributeError\u001b[0m                            Traceback (most recent call last)",
      "\u001b[1;32m<ipython-input-33-eba4e7aec695>\u001b[0m in \u001b[0;36m<module>\u001b[1;34m\u001b[0m\n\u001b[1;32m----> 1\u001b[1;33m \u001b[0mlines\u001b[0m \u001b[1;33m=\u001b[0m \u001b[0mtext\u001b[0m\u001b[1;33m.\u001b[0m\u001b[0msplit\u001b[0m\u001b[1;33m(\u001b[0m\u001b[1;34m'\\n'\u001b[0m\u001b[1;33m)\u001b[0m\u001b[1;33m\u001b[0m\u001b[1;33m\u001b[0m\u001b[0m\n\u001b[0m",
      "\u001b[1;31mAttributeError\u001b[0m: 'NoneType' object has no attribute 'split'"
     ]
    }
   ],
   "source": [
    "lines = text.split('\\n')"
   ]
  },
  {
   "cell_type": "code",
   "execution_count": 34,
   "metadata": {},
   "outputs": [],
   "source": [
    "subt = 0\n",
    "\n",
    "for line in lines:\n",
    "    if 'SUBTOTAL' in line:\n",
    "        break\n",
    "    if amt_re.search(line):\n",
    "        subt += float(line.split()[-1].replace(',', '').replace('$', ''))"
   ]
  },
  {
   "cell_type": "code",
   "execution_count": 35,
   "metadata": {},
   "outputs": [
    {
     "data": {
      "text/plain": [
       "4440.0"
      ]
     },
     "execution_count": 35,
     "metadata": {},
     "output_type": "execute_result"
    }
   ],
   "source": [
    "subt\n"
   ]
  },
  {
   "cell_type": "code",
   "execution_count": 36,
   "metadata": {},
   "outputs": [
    {
     "data": {
      "text/plain": [
       "['INVOICE',\n",
       " 'ORIGINAL',\n",
       " ' ',\n",
       " 'Invoice # 1260993H',\n",
       " 'Kaiser Permanente Fontana Medical Center Account # 6814500',\n",
       " 'Accounts Payable Purchase Order #',\n",
       " '6702 Broadway St Pay Period Ending Date: 1/29/2021',\n",
       " 'Galveston, TX 77552 Billing Date: 2/5/2021',\n",
       " 'EMPLOYEE  EXPENSE ',\n",
       " 'DATE NUMBER EMPLOYEE NAME WORKSITE HOTEL NAME TYPE CHARGES',\n",
       " '1/26/2021 1005123 Bryant, Zhaina CA - Kaiser Fontana TownePlace Suites Hotel 111.00',\n",
       " '1/27/2021 1005123 Bryant, Zhaina CA - Kaiser Fontana TownePlace Suites Hotel 111.00',\n",
       " '1/28/2021 1005123 Bryant, Zhaina CA - Kaiser Fontana TownePlace Suites Hotel 111.00',\n",
       " '1/29/2021 1005123 Bryant, Zhaina CA - Kaiser Fontana TownePlace Suites Hotel 111.00',\n",
       " '1/26/2021 589636 Dowler, Caroline CA - Kaiser Fontana TownePlace Suites Hotel 111.00',\n",
       " '1/27/2021 589636 Dowler, Caroline CA - Kaiser Fontana TownePlace Suites Hotel 111.00',\n",
       " '1/28/2021 589636 Dowler, Caroline CA - Kaiser Fontana TownePlace Suites Hotel 111.00',\n",
       " '1/29/2021 589636 Dowler, Caroline CA - Kaiser Fontana TownePlace Suites Hotel 111.00',\n",
       " '1/26/2021 899181 Gonzalez, Ivan CA - Kaiser Fontana TownePlace Suites Hotel 111.00',\n",
       " '1/27/2021 899181 Gonzalez, Ivan CA - Kaiser Fontana TownePlace Suites Hotel 111.00',\n",
       " '1/28/2021 899181 Gonzalez, Ivan CA - Kaiser Fontana TownePlace Suites Hotel 111.00',\n",
       " '1/29/2021 899181 Gonzalez, Ivan CA - Kaiser Fontana TownePlace Suites Hotel 111.00',\n",
       " '1/26/2021 1005479 Hudson, Oneil CA - Kaiser Fontana TownePlace Suites Hotel 111.00',\n",
       " '1/27/2021 1005479 Hudson, Oneil CA - Kaiser Fontana TownePlace Suites Hotel 111.00',\n",
       " '1/28/2021 1005479 Hudson, Oneil CA - Kaiser Fontana TownePlace Suites Hotel 111.00',\n",
       " '1/29/2021 1005479 Hudson, Oneil CA - Kaiser Fontana TownePlace Suites Hotel 111.00',\n",
       " '1/26/2021 707481 Mahanes, Latisha CA - Kaiser Fontana TownePlace Suites Hotel 111.00',\n",
       " '1/27/2021 707481 Mahanes, Latisha CA - Kaiser Fontana TownePlace Suites Hotel 111.00',\n",
       " '1/28/2021 707481 Mahanes, Latisha CA - Kaiser Fontana TownePlace Suites Hotel 111.00',\n",
       " '1/29/2021 707481 Mahanes, Latisha CA - Kaiser Fontana TownePlace Suites Hotel 111.00',\n",
       " '1/26/2021 1005626 Meleskie, Hannah CA - Kaiser Fontana TownePlace Suites Hotel 111.00',\n",
       " '1/27/2021 1005626 Meleskie, Hannah CA - Kaiser Fontana TownePlace Suites Hotel 111.00',\n",
       " '1/28/2021 1005626 Meleskie, Hannah CA - Kaiser Fontana TownePlace Suites Hotel 111.00',\n",
       " '1/29/2021 1005626 Meleskie, Hannah CA - Kaiser Fontana TownePlace Suites Hotel 111.00',\n",
       " '1/26/2021 885444 Palaamo, Christina CA - Kaiser Fontana TownePlace Suites Hotel 111.00',\n",
       " '1/27/2021 885444 Palaamo, Christina CA - Kaiser Fontana TownePlace Suites Hotel 111.00',\n",
       " '1/28/2021 885444 Palaamo, Christina CA - Kaiser Fontana TownePlace Suites Hotel 111.00',\n",
       " '1/29/2021 885444 Palaamo, Christina CA - Kaiser Fontana TownePlace Suites Hotel 111.00',\n",
       " '1/26/2021 1005819 Pfankuch, Taylor CA - Kaiser Fontana TownePlace Suites Hotel 111.00',\n",
       " '1/27/2021 1005819 Pfankuch, Taylor CA - Kaiser Fontana TownePlace Suites Hotel 111.00',\n",
       " '1/28/2021 1005819 Pfankuch, Taylor CA - Kaiser Fontana TownePlace Suites Hotel 111.00',\n",
       " '1/29/2021 1005819 Pfankuch, Taylor CA - Kaiser Fontana TownePlace Suites Hotel 111.00',\n",
       " \"1/26/2021 1005483 Wagoner, De'Anne CA - Kaiser Fontana TownePlace Suites Hotel 111.00\",\n",
       " \"1/27/2021 1005483 Wagoner, De'Anne CA - Kaiser Fontana TownePlace Suites Hotel 111.00\",\n",
       " \"1/28/2021 1005483 Wagoner, De'Anne CA - Kaiser Fontana TownePlace Suites Hotel 111.00\",\n",
       " \"1/29/2021 1005483 Wagoner, De'Anne CA - Kaiser Fontana TownePlace Suites Hotel 111.00\",\n",
       " '1/29/2021 97464476 Dort, Girony CA - Kaiser Fontana TownePlace Suites Hotel 111.00',\n",
       " '1/29/2021 97464476 Dort, Girony CA - Kaiser Fontana TownePlace Suites Hotel 111.00',\n",
       " '1/29/2021 97464476 Dort, Girony CA - Kaiser Fontana TownePlace Suites Hotel 111.00',\n",
       " '1/29/2021 97464476 Dort, Girony CA - Kaiser Fontana TownePlace Suites Hotel 111.00',\n",
       " 'Page 1 of 2']"
      ]
     },
     "execution_count": 36,
     "metadata": {},
     "output_type": "execute_result"
    }
   ],
   "source": [
    "lines"
   ]
  },
  {
   "cell_type": "code",
   "execution_count": null,
   "metadata": {},
   "outputs": [],
   "source": []
  },
  {
   "cell_type": "code",
   "execution_count": null,
   "metadata": {},
   "outputs": [],
   "source": []
  }
 ],
 "metadata": {
  "kernelspec": {
   "display_name": "Python 3",
   "language": "python",
   "name": "python3"
  },
  "language_info": {
   "codemirror_mode": {
    "name": "ipython",
    "version": 3
   },
   "file_extension": ".py",
   "mimetype": "text/x-python",
   "name": "python",
   "nbconvert_exporter": "python",
   "pygments_lexer": "ipython3",
   "version": "3.7.6"
  }
 },
 "nbformat": 4,
 "nbformat_minor": 4
}
